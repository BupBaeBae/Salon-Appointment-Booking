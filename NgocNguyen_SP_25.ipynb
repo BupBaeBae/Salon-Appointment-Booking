{
 "cells": [
  {
   "cell_type": "code",
   "execution_count": 2,
   "id": "096afceb-7e9d-46be-ad31-041a114bea51",
   "metadata": {},
   "outputs": [],
   "source": [
    "class artists():\n",
    "    def __init__(self, name, schedule):\n",
    "        self.name = name\n",
    "        self.schedule = schedule"
   ]
  },
  {
   "cell_type": "code",
   "execution_count": 32,
   "id": "ffa6d2f8-ae3d-42db-bc70-59ec50902c03",
   "metadata": {},
   "outputs": [],
   "source": [
    "def remove_guest(gList, key):\n",
    "    # look for a specific guest key\n",
    "    for i in range(len(gList)):\n",
    "        # if matched\n",
    "        if gList[i][\"key\"] == key:\n",
    "            del gList[i] # remove related information\n",
    "            break"
   ]
  },
  {
   "cell_type": "code",
   "execution_count": 27,
   "id": "37993e57-b55c-4244-8be4-4df1d9afebcc",
   "metadata": {},
   "outputs": [],
   "source": [
    "def guest_view_full(slots): # full artists' schedule in guest's view\n",
    "    for each in slots:\n",
    "        if each[\"open\"] == True: # look for opened slots\n",
    "            print(a.name, each[\"type\"], each[\"slot\"],\"\\n\") # print opened slots"
   ]
  },
  {
   "cell_type": "code",
   "execution_count": 33,
   "id": "efa581b1-458b-4e37-b59b-53eb8c770f77",
   "metadata": {},
   "outputs": [],
   "source": [
    "def cancellation(slots, gList, name):\n",
    "    # change artist's schedule after cancellation\n",
    "    for each in slots:\n",
    "        if each[\"key\"] == int(name):\n",
    "            each[\"open\"] = True\n",
    "            each[\"key\"] = \"\"\n",
    "    # remove guest from guest list after cancellation                \n",
    "    for g in gList:\n",
    "        if g[\"key\"] == int(name):\n",
    "            #print(f\"{g[\"appointment\"]} has been cancelled.\")\n",
    "            remove_guest(gList, g[\"key\"])\n",
    "            print(f\"{g[\"appointment\"]} has been cancelled.\")\n",
    "            break"
   ]
  },
  {
   "cell_type": "code",
   "execution_count": 29,
   "id": "868bdab3-bae2-4580-9a36-fe23c5de0c10",
   "metadata": {},
   "outputs": [],
   "source": [
    "import copy\n",
    "\n",
    "def original_schedule(): # create the same original schedule for everyone at the beginning of the day\n",
    "    slots = [\n",
    "        {\"type\": \"manicure\", \"time\": \"0900\", \"slot\": \"9:00 a.m\", \"open\": True, \"key\":\"\"},\n",
    "        {\"type\": \"manicure\", \"time\": \"0920\", \"slot\": \"9:20 a.m\", \"open\": True, \"key\":\"\"},\n",
    "        {\"type\": \"manicure\", \"time\": \"0940\", \"slot\": \"9:40 a.m\", \"open\": True, \"key\":\"\"},\n",
    "        {\"type\": \"manicure\", \"time\": \"1000\", \"slot\": \"10:00 a.m\", \"open\": True, \"key\":\"\"},\n",
    "        {\"type\": \"manicure\", \"time\": \"1020\", \"slot\": \"10:20 a.m\", \"open\": True, \"key\":\"\"},\n",
    "        {\"type\": \"manicure\", \"time\": \"1040\", \"slot\": \"10:40 a.m\", \"open\": True, \"key\":\"\"},\n",
    "        {\"type\": \"manicure\", \"time\": \"1100\", \"slot\": \"11:00 a.m\", \"open\": True, \"key\":\"\"},\n",
    "        {\"type\": \"manicure\", \"time\": \"1120\", \"slot\": \"11:20 a.m\", \"open\": True, \"key\":\"\"},\n",
    "        {\"type\": \"manicure\", \"time\": \"1140\", \"slot\": \"11:40 a.m\", \"open\": True, \"key\":\"\"},\n",
    "        {\"type\": \"manicure\", \"time\": \"0100\", \"slot\": \"01:00 p.m\", \"open\": True, \"key\":\"\"},\n",
    "        {\"type\": \"manicure\", \"time\": \"0120\", \"slot\": \"01:20 p.m\", \"open\": True, \"key\":\"\"},\n",
    "        {\"type\": \"manicure\", \"time\": \"0140\", \"slot\": \"01:40 p.m\", \"open\": True, \"key\":\"\"},\n",
    "        {\"type\": \"manicure\", \"time\": \"0200\", \"slot\": \"02:00 p.m\", \"open\": True, \"key\":\"\"},\n",
    "        {\"type\": \"manicure\", \"time\": \"0220\", \"slot\": \"02:20 p.m\", \"open\": True, \"key\":\"\"},\n",
    "        {\"type\": \"manicure\", \"time\": \"0240\", \"slot\": \"02:40 p.m\", \"open\": True, \"key\":\"\"},\n",
    "        {\"type\": \"manicure\", \"time\": \"0300\", \"slot\": \"03:00 p.m\", \"open\": True, \"key\":\"\"},\n",
    "        {\"type\": \"manicure\", \"time\": \"0320\", \"slot\": \"03:20 p.m\", \"open\": True, \"key\":\"\"},\n",
    "        {\"type\": \"manicure\", \"time\": \"0340\", \"slot\": \"03:40 p.m\", \"open\": True, \"key\":\"\"},\n",
    "        {\"type\": \"manicure\", \"time\": \"0400\", \"slot\": \"04:00 p.m\", \"open\": True, \"key\":\"\"},\n",
    "        {\"type\": \"manicure\", \"time\": \"0420\", \"slot\": \"04:20 p.m\", \"open\": True, \"key\":\"\"},\n",
    "        {\"type\": \"manicure\", \"time\": \"0440\", \"slot\": \"04:40 p.m\", \"open\": True, \"key\":\"\"},\n",
    "        {\"type\": \"pedicure\", \"time\": \"0900\", \"slot\": \"9:00 a.m\", \"open\": True, \"key\":\"\"},\n",
    "        {\"type\": \"pedicure\", \"time\": \"0940\", \"slot\": \"9:40 a.m\", \"open\": True, \"key\":\"\"},\n",
    "        {\"type\": \"pedicure\", \"time\": \"1020\", \"slot\": \"10:20 a.m\", \"open\": True, \"key\":\"\"},\n",
    "        {\"type\": \"pedicure\", \"time\": \"1100\", \"slot\": \"11:00 a.m\", \"open\": True, \"key\":\"\"},\n",
    "        {\"type\": \"pedicure\", \"time\": \"1140\", \"slot\": \"11:40 a.m\", \"open\": True, \"key\":\"\"},\n",
    "        {\"type\": \"pedicure\", \"time\": \"0100\", \"slot\": \"01:00 p.m\", \"open\": True, \"key\":\"\"},\n",
    "        {\"type\": \"pedicure\", \"time\": \"0140\", \"slot\": \"01:40 p.m\", \"open\": True, \"key\":\"\"},\n",
    "        {\"type\": \"pedicure\", \"time\": \"0220\", \"slot\": \"02:20 p.m\", \"open\": True, \"key\":\"\"},\n",
    "        {\"type\": \"pedicure\", \"time\": \"0300\", \"slot\": \"03:00 p.m\", \"open\": True, \"key\":\"\"},\n",
    "        {\"type\": \"pedicure\", \"time\": \"0340\", \"slot\": \"03:40 p.m\", \"open\": True, \"key\":\"\"},\n",
    "        {\"type\": \"pedicure\", \"time\": \"0420\", \"slot\": \"04:20 p.m\", \"open\": True, \"key\":\"\"},\n",
    "    ]\n",
    "\n",
    "    p1 = artists(\"A\", copy.deepcopy(slots))  # Create a deep copy for each artist\n",
    "    p2 = artists(\"B\", copy.deepcopy(slots))  # Ensures independent schedules for adjustment\n",
    "    p3 = artists(\"C\", copy.deepcopy(slots))\n",
    "    aList = [p1, p2, p3]\n",
    "    \n",
    "    return aList # return a list of artists objects"
   ]
  },
  {
   "cell_type": "code",
   "execution_count": 30,
   "id": "8b9abd3a-7d12-4067-8ee1-e7b581cd3141",
   "metadata": {},
   "outputs": [],
   "source": [
    "def availability_list(service, slots, time, key):\n",
    "    bookable = [] # available slots according to guest's artist choice (guest view)\n",
    "    bookable_time = [] # available time code according to guest's artist choice\n",
    "    \n",
    "    for slot in slots:\n",
    "        if time == 0:\n",
    "            if service == slot[\"type\"] and slot[\"open\"] == True:\n",
    "                bookable.append(slot[\"slot\"])\n",
    "                bookable_time.append(slot[\"time\"])\n",
    "        else:\n",
    "            if service == \"manicure\":\n",
    "                if slot[\"time\"] == time and slot[\"open\"] == True:\n",
    "                    slot[\"open\"] = False\n",
    "                    slot[\"key\"] = key\n",
    "            elif service == \"pedicure\":\n",
    "                if slot[\"time\"] == time and slot[\"open\"] == True:\n",
    "                    slot[\"open\"] = False\n",
    "                    slot[\"key\"] = key\n",
    "                if slot[\"type\"] == \"manicure\" and slot[\"time\"] == str(int(time)+20).zfill(4) and slot[\"open\"] == True:\n",
    "                    slot[\"open\"] = False\n",
    "                    \n",
    "    return slots, bookable, bookable_time # return artist's adjusted schedule, opened slots, and time code accordingly"
   ]
  },
  {
   "cell_type": "code",
   "execution_count": null,
   "id": "42b938f8-604d-4805-924e-9e8318fcdd81",
   "metadata": {},
   "outputs": [
    {
     "name": "stdout",
     "output_type": "stream",
     "text": [
      "Available artists are: A, B, C.\n"
     ]
    },
    {
     "name": "stdin",
     "output_type": "stream",
     "text": [
      "Please enter requested artist's name to make an appoinment, showall to see full schedule, or personal key for cancellation: A\n",
      "Are you here for a manicure or a pedicure? manicure\n"
     ]
    },
    {
     "name": "stdout",
     "output_type": "stream",
     "text": [
      "['9:00 a.m', '9:20 a.m', '9:40 a.m', '10:00 a.m', '10:20 a.m', '10:40 a.m', '11:00 a.m', '11:20 a.m', '11:40 a.m', '01:00 p.m', '01:20 p.m', '01:40 p.m', '02:00 p.m', '02:20 p.m', '02:40 p.m', '03:00 p.m', '03:20 p.m', '03:40 p.m', '04:00 p.m', '04:20 p.m', '04:40 p.m']\n"
     ]
    },
    {
     "name": "stdin",
     "output_type": "stream",
     "text": [
      "At what time? (Please enter 4 digit of time. For example: 0900 for 9:00 a.m) 900\n"
     ]
    }
   ],
   "source": [
    "import random\n",
    "\n",
    "aList = original_schedule() # list of all artists with the same original schedule\n",
    "gList = [] # guests list used to store guest's information\n",
    "\n",
    "while True: \n",
    "    print(\"Available artists are: A, B, C.\")\n",
    "    # get first input\n",
    "    name = input(\"Please enter requested artist's name to make an appoinment, showall to see full schedule, or personal key for cancellation:\").upper()\n",
    "    \n",
    "    if name.isnumeric():  # if guest input their unique key\n",
    "            for a in aList:\n",
    "                if not any(g[\"key\"] == int(name) for g in gList):\n",
    "                    print(\"No appointment found.\")\n",
    "                    break\n",
    "                else:\n",
    "                    cancellation(a.schedule, gList, name)\n",
    "    else:\n",
    "        for a in aList:\n",
    "            slots = a.schedule\n",
    "            if name == \"SHOWALL\":\n",
    "                guest_view_full(slots) # print full artists' schedule in guest's view\n",
    "                        \n",
    "            elif name == a.name:\n",
    "                slots = a.schedule \n",
    "                service = input(\"Are you here for a manicure or a pedicure?\")\n",
    "                slots, availability, timeCode = availability_list(service, slots, 0, 0)\n",
    "                print(availability)\n",
    "                while True:        \n",
    "                    time = input(\"At what time? (Please enter 4 digit of time. For example: 0900 for 9:00 a.m)\").zfill(4)\n",
    "                    if time not in timeCode: # to get the right time format\n",
    "                        print(\"Not an appropriate input.\")\n",
    "                    else:\n",
    "                        break\n",
    "                agree = input(\"Do you want to book this appointment? (yes/no)\")\n",
    "                if agree == \"yes\":\n",
    "                    # getting guest's contact\n",
    "                    gName = input(\"Please enter your name:\")\n",
    "                    phone = input(\"Your phone number:\")\n",
    "                    key = random.randint(100, 999) # assign guest a random unique key used for cancellation\n",
    "                    a.schedule, availability, timeCode = availability_list(service, slots, time, key)\n",
    "                    gList.append({\"appointment\": f\"{gName}'s {service} appointment with {name} at {time[:2]}:{time[-2:]}\", \"key\": key}) # add guest's contact to guests list\n",
    "                    print(f\"{gName}'s {service} appointment with {name} at {time[:2]}:{time[-2:]} has been scheduled. \\nPlease use your unique key {key} for cancellation.\")\n",
    "                    break\n",
    "                else:\n",
    "                    print(\"No apppointment was schedule.\")        "
   ]
  },
  {
   "cell_type": "code",
   "execution_count": null,
   "id": "b211dc47-0f7e-4d2c-9cd0-8dafca8fa5b9",
   "metadata": {},
   "outputs": [],
   "source": []
  }
 ],
 "metadata": {
  "kernelspec": {
   "display_name": "Python 3 (ipykernel)",
   "language": "python",
   "name": "python3"
  },
  "language_info": {
   "codemirror_mode": {
    "name": "ipython",
    "version": 3
   },
   "file_extension": ".py",
   "mimetype": "text/x-python",
   "name": "python",
   "nbconvert_exporter": "python",
   "pygments_lexer": "ipython3",
   "version": "3.12.5"
  }
 },
 "nbformat": 4,
 "nbformat_minor": 5
}
